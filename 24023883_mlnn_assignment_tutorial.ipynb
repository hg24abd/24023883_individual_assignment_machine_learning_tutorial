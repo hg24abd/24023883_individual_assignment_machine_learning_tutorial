{
  "nbformat": 4,
  "nbformat_minor": 0,
  "metadata": {
    "colab": {
      "provenance": []
    },
    "kernelspec": {
      "name": "python3",
      "display_name": "Python 3"
    },
    "language_info": {
      "name": "python"
    }
  },
  "cells": [
    {
      "cell_type": "code",
      "execution_count": null,
      "metadata": {
        "colab": {
          "base_uri": "https://localhost:8080/"
        },
        "id": "HdW04qRy2Mcg",
        "outputId": "815b16f5-eff7-4dab-85df-00f4508fe9df"
      },
      "outputs": [
        {
          "output_type": "stream",
          "name": "stderr",
          "text": [
            " 55%|█████▌    | 1.46G/2.64G [17:20<15:42, 1.25MB/s]"
          ]
        }
      ],
      "source": [
        "# 2.4 Visualizing the STL-10 Dataset Step-by-Step\n",
        "# First, let's load and visualize STL-10:\n",
        "\n",
        "import numpy as np\n",
        "\n",
        "import torchvision\n",
        "\n",
        "import matplotlib.pyplot as plt\n",
        "\n",
        "from torchvision.datasets import STL10\n",
        "\n",
        "\n",
        "\n",
        "# Load STL-10 dataset\n",
        "\n",
        "dataset = STL10(root=\"./data\", split=\"train\", download=True)\n"
      ]
    },
    {
      "cell_type": "code",
      "source": [
        "# Now, let's display 10 random images:\n",
        "\n",
        "fig, axes = plt.subplots(2, 5, figsize=(10, 5))\n",
        "\n",
        "for i, ax in enumerate(axes.flat):\n",
        "\n",
        "    img, label = dataset[i]\n",
        "\n",
        "    ax.imshow(np.array(img).transpose(1, 2, 0))\n",
        "\n",
        "    ax.set_title(f\"Class: {dataset.classes[label]}\")\n",
        "\n",
        "    ax.axis(\"off\")\n",
        "\n",
        "plt.show()\n"
      ],
      "metadata": {
        "id": "ShWKaRrC3QtN"
      },
      "execution_count": null,
      "outputs": []
    },
    {
      "cell_type": "code",
      "source": [
        "# To better understand the dataset, we visualize sample images:\n",
        "\n",
        "import numpy as np\n",
        "import torchvision\n",
        "import matplotlib.pyplot as plt\n",
        "from torchvision.datasets import STL10\n",
        "\n",
        "dataset = STL10(root=\"./data\", split=\"train\", download=True)\n",
        "fig, axes = plt.subplots(2, 5, figsize=(10, 5))\n",
        "for i, ax in enumerate(axes.flat):\n",
        "    img, label = dataset[i]\n",
        "    ax.imshow(np.array(img).transpose(1, 2, 0))\n",
        "    ax.set_title(f\"Class: {dataset.classes[label]}\")\n",
        "    ax.axis(\"off\")\n",
        "plt.show()\n"
      ],
      "metadata": {
        "id": "95JqeMZ-3er_"
      },
      "execution_count": null,
      "outputs": []
    },
    {
      "cell_type": "code",
      "source": [
        "# Example Code: Data Augmentation for Contrastive Learning\n",
        "\n",
        "from torchvision import transforms\n",
        "\n",
        "# Define transformations used in SimCLR\n",
        "simclr_transforms = transforms.Compose([\n",
        "    transforms.RandomResizedCrop(96),\n",
        "    transforms.RandomHorizontalFlip(),\n",
        "    transforms.ColorJitter(0.4, 0.4, 0.4, 0.4),\n",
        "    transforms.RandomGrayscale(p=0.2),\n",
        "    transforms.ToTensor()\n",
        "])\n"
      ],
      "metadata": {
        "id": "XtMNmmBs3j9p"
      },
      "execution_count": null,
      "outputs": []
    },
    {
      "cell_type": "code",
      "source": [
        "# Step 1: Load Data with Augmentations\n",
        "\n",
        "from torch.utils.data import DataLoader\n",
        "\n",
        "train_loader = DataLoader(STL10(root=\"./data\", split=\"train\", transform=simclr_transforms, download=True), batch_size=256, shuffle=True)"
      ],
      "metadata": {
        "id": "FV4YJz0f3qPq"
      },
      "execution_count": null,
      "outputs": []
    },
    {
      "cell_type": "code",
      "source": [
        "#Step 2: Define a Feature Extractor (ResNet-18)\n",
        "\n",
        "import torch import torchvision.models as models\n",
        "\n",
        "class SimCLRFeatureExtractor(torch.nn.Module): def init(self): super(SimCLRFeatureExtractor, self).init() self.encoder = models.resnet18(pretrained=True) self.encoder.fc = torch.nn.Identity() # Remove classification head\n",
        "\n",
        "def forward(self, x):\n",
        "    return self.encoder(x)\n"
      ],
      "metadata": {
        "id": "bDiX8W_y3sbC"
      },
      "execution_count": null,
      "outputs": []
    },
    {
      "cell_type": "code",
      "source": [
        "# Step 3: Implementing the Projection Head\n",
        "\n",
        "class ProjectionHead(torch.nn.Module): def init(self, input_dim=512, output_dim=128): super(ProjectionHead, self).init() self.fc1 = torch.nn.Linear(input_dim, 256) self.fc2 = torch.nn.Linear(256, output_dim)\n",
        "\n",
        "def forward(self, x):\n",
        "    x = torch.nn.functional.relu(self.fc1(x))\n",
        "    x = self.fc2(x)\n",
        "    return x"
      ],
      "metadata": {
        "id": "pr63GLG_3wuC"
      },
      "execution_count": null,
      "outputs": []
    },
    {
      "cell_type": "code",
      "source": [
        "from torchvision import transforms\n",
        "\n",
        "simclr_transforms = transforms.Compose([\n",
        "    transforms.RandomResizedCrop(96),\n",
        "    transforms.RandomHorizontalFlip(),\n",
        "    transforms.ColorJitter(0.4, 0.4, 0.4, 0.4),\n",
        "    transforms.RandomGrayscale(p=0.2),\n",
        "    transforms.ToTensor()\n",
        "])\n",
        "\n",
        "# This ensures strong augmentation to generate positive pairs for contrastive learning."
      ],
      "metadata": {
        "id": "4SDzt6UL33As"
      },
      "execution_count": null,
      "outputs": []
    },
    {
      "cell_type": "code",
      "source": [],
      "metadata": {
        "id": "sx4HtM1e36ZD"
      },
      "execution_count": null,
      "outputs": []
    }
  ]
}